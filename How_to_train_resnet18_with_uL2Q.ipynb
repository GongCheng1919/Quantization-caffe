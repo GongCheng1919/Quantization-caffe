{
 "cells": [
  {
   "cell_type": "code",
   "execution_count": 1,
   "metadata": {
    "ExecuteTime": {
     "end_time": "2020-04-03T08:23:22.758160Z",
     "start_time": "2020-04-03T08:23:21.900626Z"
    }
   },
   "outputs": [],
   "source": [
    "from pylab import *\n",
    "%matplotlib inline\n",
    "caffe_root = './'  # this file should be run from {caffe_root} (otherwise change this line)\n",
    "import sys\n",
    "sys.path.insert(0, caffe_root + 'python')\n",
    "import os\n",
    "os.environ[\"CUDA_VISIBLE_DEVICES\"] = \"3\"\n",
    "import caffe\n",
    "import numpy as np"
   ]
  },
  {
   "cell_type": "code",
   "execution_count": 3,
   "metadata": {
    "ExecuteTime": {
     "end_time": "2020-04-03T08:24:07.784228Z",
     "start_time": "2020-04-03T08:24:07.744694Z"
    }
   },
   "outputs": [],
   "source": [
    "# define solver\n",
    "solver_config_path=caffe_root+'models/ResNet-18/ULQ/resnet18-ulq2_solver-pycaffe.prototxt'\n",
    "from caffe.proto import caffe_pb2\n",
    "s = caffe_pb2.SolverParameter()\n",
    "s.random_seed = 0xCAFFE\n",
    "# load model prototxt\n",
    "s.net = \"models/ResNet-18/ULQ/resnet18_ulq2.prototxt\"\n",
    "# s.net=\"../caffe/models/ResNet-18/train.prototxt\"\n",
    "# s.test_net.append(test_net_path)\n",
    "s.test_interval = 1000  # Test after every 1000 training iterations.\n",
    "s.test_iter.append(100) # Test on 100 batches each time we test.\n",
    "s.max_iter = 55000   # no. of times to update the net (training iterations)\n",
    "# EDIT HERE to try different solvers\n",
    "# solver types include \"SGD\", \"Adam\", and \"Nesterov\" among others.\n",
    "s.type = \"SGD\"\n",
    "# s.type=\"Adam\"\n",
    "# Set the initial learning rate for SGD.\n",
    "s.base_lr = 0.001  # EDIT HERE to try different learning rates\n",
    "# Set momentum to accelerate learning by\n",
    "# taking weighted average of current and previous updates.\n",
    "s.momentum = 0.9\n",
    "# Set weight decay to regularize and prevent overfitting\n",
    "s.weight_decay = 0\n",
    "# Set `lr_policy` to define how the learning rate changes during training.\n",
    "# This is the same policy as our default LeNet.\n",
    "s.lr_policy = 'multistep'\n",
    "s.stepvalue.append(30000)\n",
    "s.stepvalue.append(45000)\n",
    "s.stepvalue.append(50000)\n",
    "s.gamma = 0.1\n",
    "# s.power=1\n",
    "s.test_initialization=False\n",
    "# EDIT HERE to try the fixed rate (and compare with adaptive solvers)\n",
    "# `fixed` is the simplest policy that keeps the learning rate constant.\n",
    "# s.lr_policy = 'fixed'\n",
    "# Display the current training loss and accuracy every 1000 iterations.\n",
    "s.display = 100\n",
    "# Snapshots are files used to store networks we've trained.\n",
    "# We'll snapshot every 5K iterations -- twice during training.\n",
    "s.snapshot = 5000\n",
    "s.snapshot_prefix = \"models/ResNet-18/ULQ/model/resnet-18_ulq2\"\n",
    "# Train on the GPU\n",
    "s.solver_mode = caffe_pb2.SolverParameter.GPU\n",
    "# Write the solver to a temporary file and return its filename.\n",
    "with open(solver_config_path, 'w') as f:\n",
    "    f.write(str(s))"
   ]
  },
  {
   "cell_type": "code",
   "execution_count": 4,
   "metadata": {
    "ExecuteTime": {
     "end_time": "2020-04-03T08:24:26.949697Z",
     "start_time": "2020-04-03T08:24:15.582162Z"
    }
   },
   "outputs": [],
   "source": [
    "# If you have the pretraining weights\n",
    "weights=\"../caffe/models/ResNet-18/ULQ/model/resnet-18_ulq2.caffemodel\"\n",
    "### load the solver and create train and test nets\n",
    "# caffe.set_device(0)#set your own gpu id\n",
    "caffe.set_mode_gpu()\n",
    "solver = None  # ignore this workaround for lmdb data (can't instantiate two solvers on the same data)\n",
    "solver = caffe.get_solver(solver_config_path)\n",
    "# solver=caffe.get_solver(\"models/ResNet-18/ULQ/resnet18_ulq2_solver.prototxt\")\n",
    "solver.net.copy_from(weights)\n",
    "solver.test_nets[0].copy_from(weights)"
   ]
  },
  {
   "cell_type": "code",
   "execution_count": 86,
   "metadata": {
    "ExecuteTime": {
     "end_time": "2020-04-03T09:28:27.886462Z",
     "start_time": "2020-04-03T09:28:27.837658Z"
    }
   },
   "outputs": [
    {
     "name": "stdout",
     "output_type": "stream",
     "text": [
      "Training iterations= 20000 , Test iterations= 1000\n"
     ]
    }
   ],
   "source": [
    "training_batch_size=64\n",
    "iter_size=4\n",
    "training_samples=1280000\n",
    "train_iterations=int(training_samples/training_batch_size)\n",
    "# train_iterations=10\n",
    "test_batch_size=50\n",
    "test_samples=50000\n",
    "test_iterations=int(test_samples/test_batch_size)\n",
    "# test_iterations=10\n",
    "print \"Training iterations=\", train_iterations, \", Test iterations=\",test_iterations\n",
    "def evaluate(solver, test_iterations):\n",
    "    correct1=0\n",
    "    correct5=0\n",
    "    loss=0\n",
    "    for test_it in range(test_iterations):\n",
    "        print \"\\rTest %.2f%%\"%((test_it+1.0)*100/test_iterations),\n",
    "        solver.test_nets[0].forward()\n",
    "#         correct += sum(solver.test_nets[0].blobs['score'].data.argmax(1)== solver.test_nets[0].blobs['label'].data)\n",
    "        correct1+=solver.test_nets[0].blobs['acc/top-1'].data\n",
    "        correct5+=solver.test_nets[0].blobs['acc/top-5'].data\n",
    "        loss+=solver.test_nets[0].blobs['loss'].data\n",
    "    correct1 = correct1 / test_iterations\n",
    "    correct5 = correct5 / test_iterations\n",
    "    loss=loss/test_epoch\n",
    "    print(\" loss=%.4f, test Top 1 accuracy=%.4f, Top 5 accuracy=%.4f\"%(loss,correct1,correct5))\n",
    "    return loss,correct1,correct5\n",
    "def fit(solver,epoches,train_iterations):\n",
    "    # the main solver loop\n",
    "    history={\"top1\":[],\"top5\":[],\"loss\":[]}\n",
    "    for ep in range(epoches):\n",
    "        for train_it in range(train_iterations):\n",
    "            print \"\\rEpoch %d: Training %.2f%%\"%(ep,(train_it+1.0)*100/train_iterations),\n",
    "            solver.step(1)\n",
    "#         solver.step(int(train_iterations))  # run one epoch\n",
    "        solver.test_nets[0].forward()\n",
    "        history[\"top1\"].append(float(solver.test_nets[0].blobs['acc/top-1'].data))\n",
    "        history[\"top5\"].append(float(solver.test_nets[0].blobs['acc/top-5'].data))\n",
    "        history[\"loss\"].append(float(solver.test_nets[0].blobs['loss'].data))\n",
    "        print(\" loss=%.4f, test Top 1 accuracy=%.4f, Top 5 accuracy=%.4f\"%(history[\"loss\"][ep],history[\"top1\"][ep],history[\"top5\"][ep]))\n",
    "    return history"
   ]
  },
  {
   "cell_type": "code",
   "execution_count": 83,
   "metadata": {
    "ExecuteTime": {
     "end_time": "2020-04-03T08:59:25.510337Z",
     "start_time": "2020-04-03T08:57:39.854551Z"
    }
   },
   "outputs": [
    {
     "name": "stdout",
     "output_type": "stream",
     "text": [
      "Epoch 0: Training 100.00%  loss=1.6505, test Top 1 accuracy=0.5800, Top 5 accuracy=0.7600\n",
      "Epoch 1: Training 100.00%  loss=1.2609, test Top 1 accuracy=0.6000, Top 5 accuracy=0.9200\n",
      "Epoch 2: Training 100.00%  loss=1.4065, test Top 1 accuracy=0.7000, Top 5 accuracy=0.8400\n",
      "Epoch 3: Training 100.00%  loss=1.2101, test Top 1 accuracy=0.7200, Top 5 accuracy=0.9400\n",
      "Epoch 4: Training 100.00%  loss=1.7304, test Top 1 accuracy=0.6600, Top 5 accuracy=0.8600\n",
      "Epoch 5: Training 100.00%  loss=1.5374, test Top 1 accuracy=0.6000, Top 5 accuracy=0.8800\n",
      "Epoch 6: Training 100.00%  loss=0.8420, test Top 1 accuracy=0.7400, Top 5 accuracy=0.9400\n",
      "Epoch 7: Training 100.00%  loss=1.4797, test Top 1 accuracy=0.6800, Top 5 accuracy=0.8600\n",
      "Epoch 8: Training 100.00%  loss=1.2261, test Top 1 accuracy=0.6400, Top 5 accuracy=0.9000\n",
      "Epoch 9: Training 100.00%  loss=1.3313, test Top 1 accuracy=0.6600, Top 5 accuracy=0.8600\n"
     ]
    }
   ],
   "source": [
    "his=fit(solver,epoches=10,train_iterations=train_iterations)"
   ]
  },
  {
   "cell_type": "code",
   "execution_count": 84,
   "metadata": {
    "ExecuteTime": {
     "end_time": "2020-04-03T08:59:27.590713Z",
     "start_time": "2020-04-03T08:59:25.514511Z"
    }
   },
   "outputs": [
    {
     "name": "stdout",
     "output_type": "stream",
     "text": [
      "Test 100.00%  loss=14.3659, test Top 1 accuracy=0.6800, Top 5 accuracy=0.8700\n"
     ]
    }
   ],
   "source": [
    "loss,top1,top5=evaluate(solver,test_iterations)"
   ]
  },
  {
   "cell_type": "code",
   "execution_count": 85,
   "metadata": {
    "ExecuteTime": {
     "end_time": "2020-04-03T08:59:27.921941Z",
     "start_time": "2020-04-03T08:59:27.597071Z"
    }
   },
   "outputs": [
    {
     "data": {
      "text/plain": [
       "Text(0.5,1,'Test Accuracy: 0.87')"
      ]
     },
     "execution_count": 85,
     "metadata": {},
     "output_type": "execute_result"
    },
    {
     "data": {
      "image/png": "[encoded data removed]",
      "text/plain": [
       "<Figure size 432x288 with 2 Axes>"
      ]
     },
     "metadata": {},
     "output_type": "display_data"
    }
   ],
   "source": [
    "#plot figure\n",
    "epoches=10\n",
    "_, ax1 = subplots()\n",
    "ax2 = ax1.twinx()\n",
    "ax1.plot(arange(epoches), his['loss'])\n",
    "ax2.plot(arange(epoches), his['top5'], 'r')\n",
    "ax1.set_xlabel('iteration')\n",
    "ax1.set_ylabel('train loss')\n",
    "ax2.set_ylabel('test accuracy')\n",
    "ax2.set_title('Test Accuracy: {:.2f}'.format(top5))"
   ]
  }
 ],
 "metadata": {
  "kernelspec": {
   "display_name": "Python 2",
   "language": "python",
   "name": "python2"
  },
  "language_info": {
   "codemirror_mode": {
    "name": "ipython",
    "version": 2
   },
   "file_extension": ".py",
   "mimetype": "text/x-python",
   "name": "python",
   "nbconvert_exporter": "python",
   "pygments_lexer": "ipython2",
   "version": "2.7.12"
  },
  "latex_envs": {
   "LaTeX_envs_menu_present": true,
   "autoclose": false,
   "autocomplete": true,
   "bibliofile": "biblio.bib",
   "cite_by": "apalike",
   "current_citInitial": 1,
   "eqLabelWithNumbers": true,
   "eqNumInitial": 1,
   "hotkeys": {
    "equation": "Ctrl-E",
    "itemize": "Ctrl-I"
   },
   "labels_anchors": false,
   "latex_user_defs": false,
   "report_style_numbering": false,
   "user_envs_cfg": false
  },
  "toc": {
   "base_numbering": 1,
   "nav_menu": {},
   "number_sections": true,
   "sideBar": true,
   "skip_h1_title": false,
   "title_cell": "Table of Contents",
   "title_sidebar": "Contents",
   "toc_cell": false,
   "toc_position": {},
   "toc_section_display": true,
   "toc_window_display": false
  }
 },
 "nbformat": 4,
 "nbformat_minor": 2
}
